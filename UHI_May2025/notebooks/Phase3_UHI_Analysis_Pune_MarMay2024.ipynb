{
  "cells": [
    {
      "cell_type": "markdown",
      "metadata": {},
      "source": [
        "# Phase 3 \u2013 Analysis and Recommendations\n",
        "**Goal:** Link UHI areas with infrastructure deficit by identifying LST hotspots that fall outside buffered cooling infrastructure zones."
      ]
    },
    {
      "cell_type": "code",
      "metadata": {},
      "source": [
        "import geopandas as gpd\n",
        "import rasterio\n",
        "from rasterio.features import shapes\n",
        "from shapely.geometry import shape\n",
        "import numpy as np\n",
        "import folium\n",
        "import json\n",
        "\n",
        "# Load LST raster\n",
        "with rasterio.open(\"/content/drive/MyDrive/urban-heat-dashboard/assets/pune_LST_C_mar_may2024.tif\") as src:\n",
        "    arr = src.read(1)\n",
        "    transform = src.transform\n",
        "\n",
        "# Define threshold for hotspot (e.g. > 35\u00b0C)\n",
        "mask = arr > 35\n",
        "results = (\n",
        "    {\"properties\": {\"value\": v}, \"geometry\": s}\n",
        "    for s, v in shapes(arr, mask=mask, transform=transform)\n",
        ")\n",
        "\n",
        "# Convert to GeoDataFrame\n",
        "hotspot_gdf = gpd.GeoDataFrame.from_features(results, crs=src.crs)\n",
        "hotspot_gdf = hotspot_gdf.to_crs(epsg=4326)\n",
        "hotspot_gdf.to_file(\"/content/drive/MyDrive/urban-heat-dashboard/assets/pune_hotspots_35C.geojson\", driver=\"GeoJSON\")"
      ]
    },
    {
      "cell_type": "code",
      "metadata": {},
      "source": [
        "# Load the 200m Cooling Buffer Layer\n",
        "cooling_buffer_gdf = gpd.read_file(\"/content/drive/MyDrive/urban-heat-dashboard/assets/pune_cooling_buffer_200m.geojson\")\n",
        "cooling_buffer_gdf = cooling_buffer_gdf.to_crs(epsg=4326)"
      ]
    },
    {
      "cell_type": "code",
      "metadata": {},
      "source": [
        "# Find Hotspots Outside Cooling Buffer\n",
        "uhi_without_infra = gpd.overlay(hotspot_gdf, cooling_buffer_gdf, how=\"difference\")\n",
        "uhi_without_infra.to_file(\"/content/drive/MyDrive/urban-heat-dashboard/assets/pune_hotspots_outside_buffer.geojson\", driver=\"GeoJSON\")"
      ]
    },
    {
      "cell_type": "code",
      "metadata": {},
      "source": [
        "# Basic stats\n",
        "print(\"Total hotspot polygons:\", len(hotspot_gdf))\n",
        "print(\"Hotspot polygons outside cooling buffer:\", len(uhi_without_infra))"
      ]
    },
    {
      "cell_type": "code",
      "metadata": {},
      "source": [
        "# Visualization using folium\n",
        "m = folium.Map(location=[18.52, 73.85], zoom_start=12)\n",
        "\n",
        "# Add hotspot polygons\n",
        "folium.GeoJson(hotspot_gdf, name=\"Hotspots > 35C\", style_function=lambda x: {\n",
        "    'fillColor': 'red', 'color': 'red', 'weight': 1, 'fillOpacity': 0.4\n",
        "}).add_to(m)\n",
        "\n",
        "# Add cooling buffer\n",
        "folium.GeoJson(cooling_buffer_gdf, name=\"Cooling Buffer 200m\", style_function=lambda x: {\n",
        "    'fillColor': 'green', 'color': 'green', 'weight': 1, 'fillOpacity': 0.3\n",
        "}).add_to(m)\n",
        "\n",
        "# Add underserved UHI zones\n",
        "folium.GeoJson(uhi_without_infra, name=\"UHI Outside Buffer\", style_function=lambda x: {\n",
        "    'fillColor': 'orange', 'color': 'orange', 'weight': 1, 'fillOpacity': 0.5\n",
        "}).add_to(m)\n",
        "\n",
        "folium.LayerControl().add_to(m)\n",
        "m"
      ]
    }
  ],
  "metadata": {
    "kernelspec": {
      "display_name": "Python 3",
      "language": "python",
      "name": "python3"
    },
    "language_info": {
      "name": "python",
      "version": "3.9"
    }
  },
  "nbformat": 4,
  "nbformat_minor": 2
}