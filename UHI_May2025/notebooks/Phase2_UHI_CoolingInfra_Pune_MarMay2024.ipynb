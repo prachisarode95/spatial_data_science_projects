
{
 "cells": [
  {
   "cell_type": "markdown",
   "metadata": {},
   "source": [
    "# Phase 2 – Cooling Infrastructure Mapping (Pune)\n",
    "\n",
    "In this notebook, we will identify cooling infrastructure (green spaces, water bodies, vegetation) in Pune using OpenStreetMap and Landsat 9 NDVI imagery."
   ]
  },
  {
   "cell_type": "code",
   "execution_count": null,
   "metadata": {},
   "outputs": [],
   "source": [
    "# 1. Import Libraries\n",
    "import osmnx as ox\n",
    "import geopandas as gpd\n",
    "import folium\n",
    "import ee\n",
    "import geemap\n",
    "ee.Initialize()"
   ]
  },
  {
   "cell_type": "markdown",
   "metadata": {},
   "source": [
    "## Step 1 – Load Pune Boundary and Extract Green & Blue Spaces from OSM"
   ]
  },
  {
   "cell_type": "code",
   "execution_count": null,
   "metadata": {},
   "outputs": [],
   "source": [
    "# Load Pune boundary\n",
    "pune_gdf = gpd.read_file("pune_boundary.geojson")\n",
    "pune_polygon = pune_gdf.geometry.unary_union\n",
    "\n",
    "# Define tags\n",
    "tags_green = {'leisure': ['park', 'garden', 'golf_course', 'recreation_ground']}\n",
    "tags_water = {'natural': ['water', 'wetland'], 'water': ['river', 'lake', 'pond']}\n",
    "\n",
    "# Extract from OSM\n",
    "green_spaces = ox.features_from_polygon(pune_polygon, tags_green)\n",
    "water_bodies = ox.features_from_polygon(pune_polygon, tags_water)\n",
    "\n",
    "# Save to GeoJSON\n",
    "green_spaces.to_file("pune_green_spaces.geojson", driver="GeoJSON")\n",
    "water_bodies.to_file("pune_water_bodies.geojson", driver="GeoJSON")"
   ]
  },
  {
   "cell_type": "markdown",
   "metadata": {},
   "source": [
    "## Step 2 – Calculate NDVI from Landsat 9 Imagery"
   ]
  },
  {
   "cell_type": "code",
   "execution_count": null,
   "metadata": {},
   "outputs": [],
   "source": [
    "# Convert GDF to ee.FeatureCollection\n",
    "aoi = geemap.geopandas_to_ee(pune_gdf)\n",
    "\n",
    "# Filter Landsat 9 collection\n",
    "collection = ee.ImageCollection("LANDSAT/LC09/C02/T1_L2") \
",
    "    .filterDate('2024-03-01', '2024-05-31') \
",
    "    .filterBounds(aoi) \
",
    "    .filter(ee.Filter.lt('CLOUD_COVER', 10))\n",
    "\n",
    "# Add NDVI\n",
    "def add_ndvi(image):\n",
    "    ndvi = image.normalizedDifference(['SR_B5', 'SR_B4']).rename('NDVI')\n",
    "    return image.addBands(ndvi)\n",
    "\n",
    "ndvi_collection = collection.map(add_ndvi)\n",
    "ndvi_mean = ndvi_collection.select('NDVI').mean().clip(aoi)"
   ]
  },
  {
   "cell_type": "markdown",
   "metadata": {},
   "source": [
    "## Step 3 – Visualize NDVI with LST, Green Spaces, Water Bodies"
   ]
  },
  {
   "cell_type": "code",
   "execution_count": null,
   "metadata": {},
   "outputs": [],
   "source": [
    "# Load LST raster from Phase 1\n",
    "lst_celsius_mean = ee.Image('users/your_username/pune_LST_Celsius_MarMay2024')  # or re-run Phase 1 and assign\n",
    "\n",
    "# Create Map\n",
    "Map = geemap.Map(center=[18.52, 73.85], zoom=10)\n",
    "\n",
    "# Add Layers\n",
    "Map.addLayer(aoi, {}, "Pune Boundary")\n",
    "Map.addLayer(lst_celsius_mean, {'min': 15, 'max': 45, 'palette': ['blue','cyan','green','yellow','orange','red']}, "Mean LST (°C)")\n",
    "Map.addLayer(ndvi_mean, {'min': 0, 'max': 0.8, 'palette': ['white', 'green']}, "Mean NDVI")\n",
    "\n",
    "# Add GeoJSON overlays\n",
    "Map.add_geojson("pune_green_spaces.geojson", layer_name="Green Spaces")\n",
    "Map.add_geojson("pune_water_bodies.geojson", layer_name="Water Bodies")\n",
    "\n",
    "Map.add_child(folium.LayerControl())\n",
    "Map"
   ]
  },
  {
   "cell_type": "markdown",
   "metadata": {},
   "source": [
    "## Step 4 – Export NDVI Raster and GeoJSONs"
   ]
  },
  {
   "cell_type": "code",
   "execution_count": null,
   "metadata": {},
   "outputs": [],
   "source": [
    "# Export NDVI\n",
    "geemap.ee_export_image(ndvi_mean, filename='pune_NDVI_MarMay2024.tif', scale=30, region=aoi.geometry())"
   ]
  }
 ],
 "metadata": {
  "kernelspec": {
   "display_name": "Python 3",
   "language": "python",
   "name": "python3"
  },
  "language_info": {
   "name": "python",
   "version": ""
  }
 },
 "nbformat": 4,
 "nbformat_minor": 2
}
