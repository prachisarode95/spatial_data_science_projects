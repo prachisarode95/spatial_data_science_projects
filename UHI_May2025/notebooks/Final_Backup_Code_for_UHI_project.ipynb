{
  "nbformat": 4,
  "nbformat_minor": 0,
  "metadata": {
    "colab": {
      "provenance": []
    },
    "kernelspec": {
      "name": "python3",
      "display_name": "Python 3"
    },
    "language_info": {
      "name": "python"
    }
  },
  "cells": [
    {
      "cell_type": "markdown",
      "source": [
        "This will create a UHI_Project_Final_Backup.zip in your working directory with all final cleaned outputs. You can download this for safe storage or share it."
      ],
      "metadata": {
        "id": "jse7hV-mUFZ4"
      }
    },
    {
      "cell_type": "code",
      "execution_count": 1,
      "metadata": {
        "colab": {
          "base_uri": "https://localhost:8080/"
        },
        "id": "6vWihESOT5uH",
        "outputId": "17c8777a-93d2-4a57-dd47-64f1306d4c6a"
      },
      "outputs": [
        {
          "output_type": "stream",
          "name": "stdout",
          "text": [
            "✅ Backup ready: UHI_Project_Final_Backup.zip\n"
          ]
        }
      ],
      "source": [
        "import os\n",
        "import shutil\n",
        "from zipfile import ZipFile\n",
        "\n",
        "# Update paths to match your Drive mount path or working directory\n",
        "output_files = {\n",
        "    \"uhi_raster\": \"/content/drive/MyDrive/urban-heat-dashboard/assets/pune_LST_Celsius.tif\",\n",
        "    \"green_spaces\": \"/content/drive/MyDrive/urban-heat-dashboard/assets/pune_green_spaces.geojson\",\n",
        "    \"water_bodies\": \"/content/drive/MyDrive/urban-heat-dashboard/assets/pune_water_bodies.geojson\",\n",
        "    \"cooling_buffer\": \"/content/drive/MyDrive/urban-heat-dashboard/assets/pune_cooling_buffer_200m.geojson\",\n",
        "    \"uhi_vector\": \"/content/drive/MyDrive/urban-heat-dashboard/assets/pune_hotspots_35C.geojson\"\n",
        "}\n",
        "\n",
        "# Create local folder for backup\n",
        "backup_folder = \"UHI_Project_Final_Backup\"\n",
        "os.makedirs(backup_folder, exist_ok=True)\n",
        "\n",
        "# Copy files to backup folder\n",
        "for label, filepath in output_files.items():\n",
        "    if os.path.exists(filepath):\n",
        "        shutil.copy(filepath, os.path.join(backup_folder, os.path.basename(filepath)))\n",
        "\n",
        "# Zip the backup folder\n",
        "zip_filename = f\"{backup_folder}.zip\"\n",
        "with ZipFile(zip_filename, \"w\") as zipf:\n",
        "    for root, _, files in os.walk(backup_folder):\n",
        "        for file in files:\n",
        "            file_path = os.path.join(root, file)\n",
        "            arcname = os.path.relpath(file_path, backup_folder)\n",
        "            zipf.write(file_path, arcname)\n",
        "\n",
        "print(f\"✅ Backup ready: {zip_filename}\")\n"
      ]
    },
    {
      "cell_type": "code",
      "source": [],
      "metadata": {
        "id": "1GMln0WQbQ0q"
      },
      "execution_count": null,
      "outputs": []
    }
  ]
}