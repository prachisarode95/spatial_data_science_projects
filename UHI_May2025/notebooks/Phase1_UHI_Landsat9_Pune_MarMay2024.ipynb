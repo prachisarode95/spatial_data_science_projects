
{
 "cells": [
  {
   "cell_type": "markdown",
   "metadata": {},
   "source": [
    "# Phase 1 – Retrieve and Visualize Urban LST (Pune, Mar–May 2024)"
   ]
  },
  {
   "cell_type": "code",
   "execution_count": null,
   "metadata": {},
   "outputs": [],
   "source": [
    "# Install Required Libraries\n",
    "!pip install geemap folium osmnx geopandas"
   ]
  },
  {
   "cell_type": "code",
   "execution_count": null,
   "metadata": {},
   "outputs": [],
   "source": [
    "# Extract and Save Pune Boundary using OpenStreetMap\n",
    "import osmnx as ox\n",
    "import geopandas as gpd\n",
    "\n",
    "pune_boundary = ox.geocode_to_gdf("Pune, India")\n",
    "pune_boundary.to_file("pune_boundary.geojson", driver="GeoJSON")\n",
    "pune_boundary.plot(figsize=(8, 6), edgecolor='black', facecolor='none')"
   ]
  },
  {
   "cell_type": "code",
   "execution_count": null,
   "metadata": {},
   "outputs": [],
   "source": [
    "# Initialize Earth Engine and Load Pune Boundary\n",
    "import ee\n",
    "import geemap\n",
    "\n",
    "try:\n",
    "    ee.Initialize()\n",
    "except Exception as e:\n",
    "    ee.Authenticate()\n",
    "    ee.Initialize()\n",
    "\n",
    "gdf = gpd.read_file("pune_boundary.geojson")\n",
    "aoi = geemap.geopandas_to_ee(gdf)\n",
    "\n",
    "Map = geemap.Map(center=[18.52, 73.85], zoom=10)\n",
    "Map.addLayer(aoi, {}, "Pune Boundary")\n",
    "Map"
   ]
  },
  {
   "cell_type": "code",
   "execution_count": null,
   "metadata": {},
   "outputs": [],
   "source": [
    "# Load and Preprocess Landsat 9 Imagery (Convert Band 10 to Celsius)\n",
    "collection = ee.ImageCollection("LANDSAT/LC09/C02/T1_L2") \
",
    "    .filterDate('2024-03-01', '2024-05-31') \
",
    "    .filterBounds(aoi) \
",
    "    .filter(ee.Filter.lt('CLOUD_COVER', 10)) \
",
    "    .select('ST_B10')\n",
    "\n",
    "def scale_to_celsius(img):\n",
    "    kelvin = img.multiply(0.00341802).add(149)\n",
    "    celsius = kelvin.subtract(273.15)\n",
    "    return celsius.copyProperties(img, ["system:time_start"])\n",
    "\n",
    "thermal_celsius = collection.map(scale_to_celsius)\n",
    "lst_celsius_mean = thermal_celsius.mean().clip(aoi)"
   ]
  },
  {
   "cell_type": "code",
   "execution_count": null,
   "metadata": {},
   "outputs": [],
   "source": [
    "# Visualize LST in Celsius\n",
    "vis_params_celsius = {\n",
    "    'min': 15,\n",
    "    'max': 45,\n",
    "    'palette': ['blue', 'cyan', 'green', 'yellow', 'orange', 'red']\n",
    "}\n",
    "\n",
    "Map.addLayer(lst_celsius_mean, vis_params_celsius, "Mean LST (°C) Mar–May 2024")\n",
    "Map"
   ]
  },
  {
   "cell_type": "code",
   "execution_count": null,
   "metadata": {},
   "outputs": [],
   "source": [
    "# Calculate and Print Average LST (°C)\n",
    "stats = lst_celsius_mean.reduceRegion(\n",
    "    reducer=ee.Reducer.mean(),\n",
    "    geometry=aoi.geometry(),\n",
    "    scale=30,\n",
    "    bestEffort=True\n",
    ")\n",
    "\n",
    "print("Average Land Surface Temperature (°C):", stats.getInfo())"
   ]
  },
  {
   "cell_type": "code",
   "execution_count": null,
   "metadata": {},
   "outputs": [],
   "source": [
    "# Export Mean LST (Celsius) Image\n",
    "geemap.ee_export_image(\n",
    "    lst_celsius_mean,\n",
    "    filename='pune_LST_MarMay2024_Celsius.tif',\n",
    "    scale=30,\n",
    "    region=aoi.geometry(),\n",
    "    file_per_band=False\n",
    ")"
   ]
  }
 ],
 "metadata": {
  "kernelspec": {
   "display_name": "Python 3",
   "language": "python",
   "name": "python3"
  },
  "language_info": {
   "name": "python",
   "version": ""
  }
 },
 "nbformat": 4,
 "nbformat_minor": 2
}
